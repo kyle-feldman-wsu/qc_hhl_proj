{
 "cells": [
  {
   "cell_type": "code",
   "execution_count": 1,
   "id": "cc22af8d-8259-411c-a589-0001344be2d8",
   "metadata": {},
   "outputs": [],
   "source": [
    "# Preparing environment\n",
    "import matplotlib.pyplot as plt\n",
    "import numpy as np\n",
    "import math\n",
    "\n",
    "# importing Qiskit\n",
    "from qiskit import IBMQ, Aer, transpile, assemble\n",
    "from qiskit import QuantumCircuit, ClassicalRegister, QuantumRegister\n",
    "\n",
    "# import basic plot tools\n",
    "from qiskit.visualization import plot_histogram"
   ]
  },
  {
   "cell_type": "code",
   "execution_count": 3,
   "id": "4f2037d5-641b-4838-acc9-0c7f23bf1954",
   "metadata": {},
   "outputs": [
    {
     "name": "stdout",
     "output_type": "stream",
     "text": [
      "eigenValues\n",
      "2\n"
     ]
    }
   ],
   "source": [
    "eigenValuesForU = QuantumRegister(2, 'eigenValues')\n",
    "\n",
    "print(eigenValuesForU.name)\n",
    "print(eigenValuesForU.size)"
   ]
  },
  {
   "cell_type": "code",
   "execution_count": 5,
   "id": "d8719e0f-ffbb-4bdb-a637-23d3897336b4",
   "metadata": {},
   "outputs": [],
   "source": [
    "circuit = QuantumCircuit()"
   ]
  },
  {
   "cell_type": "code",
   "execution_count": 7,
   "id": "06d9c23f-07c7-40f5-8db8-287445ce9a01",
   "metadata": {},
   "outputs": [],
   "source": [
    "circuit.add_register(eigenValuesForU)"
   ]
  },
  {
   "cell_type": "code",
   "execution_count": 8,
   "id": "c53ce8a0-c0d7-46b8-8e62-81b28e25e091",
   "metadata": {},
   "outputs": [
    {
     "data": {
      "image/png": "[encoded data removed]",
      "text/plain": [
       "<Figure size 231.058x144.48 with 1 Axes>"
      ]
     },
     "execution_count": 8,
     "metadata": {},
     "output_type": "execute_result"
    }
   ],
   "source": [
    "circuit.draw(output='mpl')"
   ]
  },
  {
   "cell_type": "code",
   "execution_count": 9,
   "id": "3da11909-f4f5-42ef-a4fd-e4abca482367",
   "metadata": {},
   "outputs": [],
   "source": [
    "anc = QuantumRegister(1, 'ancilla')"
   ]
  },
  {
   "cell_type": "code",
   "execution_count": 10,
   "id": "7344161e-0f15-4d16-87e0-43404c0f4fd7",
   "metadata": {},
   "outputs": [],
   "source": [
    "circuit.add_register(anc)"
   ]
  },
  {
   "cell_type": "code",
   "execution_count": 11,
   "id": "272af0f8-c1da-401a-9bd9-b579608125c6",
   "metadata": {},
   "outputs": [
    {
     "data": {
      "image/png": "[encoded data removed]",
      "text/plain": [
       "<Figure size 231.058x204.68 with 1 Axes>"
      ]
     },
     "execution_count": 11,
     "metadata": {},
     "output_type": "execute_result"
    }
   ],
   "source": [
    "circuit.draw(output='mpl')"
   ]
  },
  {
   "cell_type": "code",
   "execution_count": null,
   "id": "37c82151-705c-4006-8c28-5d221f3a89d3",
   "metadata": {},
   "outputs": [],
   "source": []
  }
 ],
 "metadata": {
  "kernelspec": {
   "display_name": "Qiskit v0.33.1 (ipykernel)",
   "language": "python",
   "name": "python3"
  },
  "language_info": {
   "codemirror_mode": {
    "name": "ipython",
    "version": 3
   },
   "file_extension": ".py",
   "mimetype": "text/x-python",
   "name": "python",
   "nbconvert_exporter": "python",
   "pygments_lexer": "ipython3",
   "version": "3.8.10"
  },
  "widgets": {
   "application/vnd.jupyter.widget-state+json": {
    "state": {},
    "version_major": 2,
    "version_minor": 0
   }
  }
 },
 "nbformat": 4,
 "nbformat_minor": 5
}
